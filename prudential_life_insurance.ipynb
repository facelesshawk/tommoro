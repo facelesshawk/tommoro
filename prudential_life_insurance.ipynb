{
 "cells": [
  {
   "cell_type": "code",
   "execution_count": 122,
   "metadata": {},
   "outputs": [],
   "source": [
    "import numpy as np\n",
    "import pandas as pd\n",
    "import matplotlib.pyplot as plt\n",
    "import seaborn as sns\n",
    "%matplotlib inline\n",
    "\n",
    "from sklearn import datasets\n",
    "import keras\n",
    "from keras.models import Sequential\n",
    "from keras.layers import Dense\n",
    "from keras.optimizers import Adam\n",
    "\n",
    "from sklearn.cross_validation import train_test_split\n",
    "from sklearn.metrics import accuracy_score\n",
    "from sklearn.linear_model import LogisticRegression"
   ]
  },
  {
   "cell_type": "code",
   "execution_count": 123,
   "metadata": {},
   "outputs": [],
   "source": [
    "train=pd.read_csv(\"C:\\\\Users\\\\vipul\\\\Desktop\\\\test.csv\")\n"
   ]
  },
  {
   "cell_type": "code",
   "execution_count": 124,
   "metadata": {},
   "outputs": [
    {
     "data": {
      "text/html": [
       "<div>\n",
       "<style scoped>\n",
       "    .dataframe tbody tr th:only-of-type {\n",
       "        vertical-align: middle;\n",
       "    }\n",
       "\n",
       "    .dataframe tbody tr th {\n",
       "        vertical-align: top;\n",
       "    }\n",
       "\n",
       "    .dataframe thead th {\n",
       "        text-align: right;\n",
       "    }\n",
       "</style>\n",
       "<table border=\"1\" class=\"dataframe\">\n",
       "  <thead>\n",
       "    <tr style=\"text-align: right;\">\n",
       "      <th></th>\n",
       "      <th>id</th>\n",
       "      <th>nodes</th>\n",
       "      <th>edges</th>\n",
       "      <th>type</th>\n",
       "      <th>result</th>\n",
       "      <th>avgcoeff</th>\n",
       "      <th>no_of_tri</th>\n",
       "      <th>closed_tri</th>\n",
       "      <th>diameter</th>\n",
       "    </tr>\n",
       "  </thead>\n",
       "  <tbody>\n",
       "    <tr>\n",
       "      <th>count</th>\n",
       "      <td>1000.000000</td>\n",
       "      <td>1.000000e+03</td>\n",
       "      <td>1.000000e+03</td>\n",
       "      <td>1000.000000</td>\n",
       "      <td>1000.000000</td>\n",
       "      <td>1000.000000</td>\n",
       "      <td>1.000000e+03</td>\n",
       "      <td>1000.000000</td>\n",
       "      <td>1000.000000</td>\n",
       "    </tr>\n",
       "    <tr>\n",
       "      <th>mean</th>\n",
       "      <td>500.500000</td>\n",
       "      <td>2.075514e+06</td>\n",
       "      <td>3.014066e+12</td>\n",
       "      <td>1.515000</td>\n",
       "      <td>1.559000</td>\n",
       "      <td>0.493176</td>\n",
       "      <td>1.542462e+14</td>\n",
       "      <td>0.077661</td>\n",
       "      <td>10.502000</td>\n",
       "    </tr>\n",
       "    <tr>\n",
       "      <th>std</th>\n",
       "      <td>288.819436</td>\n",
       "      <td>2.967913e+06</td>\n",
       "      <td>6.858907e+12</td>\n",
       "      <td>1.109507</td>\n",
       "      <td>1.112545</td>\n",
       "      <td>0.288838</td>\n",
       "      <td>4.052777e+14</td>\n",
       "      <td>0.047174</td>\n",
       "      <td>5.771248</td>\n",
       "    </tr>\n",
       "    <tr>\n",
       "      <th>min</th>\n",
       "      <td>1.000000</td>\n",
       "      <td>9.600000e+01</td>\n",
       "      <td>1.038000e+03</td>\n",
       "      <td>0.000000</td>\n",
       "      <td>0.000000</td>\n",
       "      <td>0.000011</td>\n",
       "      <td>3.491400e+04</td>\n",
       "      <td>0.000002</td>\n",
       "      <td>1.000000</td>\n",
       "    </tr>\n",
       "    <tr>\n",
       "      <th>25%</th>\n",
       "      <td>250.750000</td>\n",
       "      <td>1.276325e+04</td>\n",
       "      <td>2.482822e+07</td>\n",
       "      <td>1.000000</td>\n",
       "      <td>1.000000</td>\n",
       "      <td>0.244136</td>\n",
       "      <td>7.157229e+08</td>\n",
       "      <td>0.037930</td>\n",
       "      <td>5.000000</td>\n",
       "    </tr>\n",
       "    <tr>\n",
       "      <th>50%</th>\n",
       "      <td>500.500000</td>\n",
       "      <td>2.165955e+05</td>\n",
       "      <td>7.531129e+09</td>\n",
       "      <td>2.000000</td>\n",
       "      <td>2.000000</td>\n",
       "      <td>0.480811</td>\n",
       "      <td>2.759959e+11</td>\n",
       "      <td>0.076573</td>\n",
       "      <td>11.000000</td>\n",
       "    </tr>\n",
       "    <tr>\n",
       "      <th>75%</th>\n",
       "      <td>750.250000</td>\n",
       "      <td>3.030460e+06</td>\n",
       "      <td>1.830997e+12</td>\n",
       "      <td>2.000000</td>\n",
       "      <td>3.000000</td>\n",
       "      <td>0.735482</td>\n",
       "      <td>7.643888e+13</td>\n",
       "      <td>0.112998</td>\n",
       "      <td>15.000000</td>\n",
       "    </tr>\n",
       "    <tr>\n",
       "      <th>max</th>\n",
       "      <td>1000.000000</td>\n",
       "      <td>9.999667e+06</td>\n",
       "      <td>4.098261e+13</td>\n",
       "      <td>3.000000</td>\n",
       "      <td>3.000000</td>\n",
       "      <td>0.999250</td>\n",
       "      <td>3.558069e+15</td>\n",
       "      <td>0.192752</td>\n",
       "      <td>20.000000</td>\n",
       "    </tr>\n",
       "  </tbody>\n",
       "</table>\n",
       "</div>"
      ],
      "text/plain": [
       "                id         nodes         edges         type       result  \\\n",
       "count  1000.000000  1.000000e+03  1.000000e+03  1000.000000  1000.000000   \n",
       "mean    500.500000  2.075514e+06  3.014066e+12     1.515000     1.559000   \n",
       "std     288.819436  2.967913e+06  6.858907e+12     1.109507     1.112545   \n",
       "min       1.000000  9.600000e+01  1.038000e+03     0.000000     0.000000   \n",
       "25%     250.750000  1.276325e+04  2.482822e+07     1.000000     1.000000   \n",
       "50%     500.500000  2.165955e+05  7.531129e+09     2.000000     2.000000   \n",
       "75%     750.250000  3.030460e+06  1.830997e+12     2.000000     3.000000   \n",
       "max    1000.000000  9.999667e+06  4.098261e+13     3.000000     3.000000   \n",
       "\n",
       "          avgcoeff     no_of_tri   closed_tri     diameter  \n",
       "count  1000.000000  1.000000e+03  1000.000000  1000.000000  \n",
       "mean      0.493176  1.542462e+14     0.077661    10.502000  \n",
       "std       0.288838  4.052777e+14     0.047174     5.771248  \n",
       "min       0.000011  3.491400e+04     0.000002     1.000000  \n",
       "25%       0.244136  7.157229e+08     0.037930     5.000000  \n",
       "50%       0.480811  2.759959e+11     0.076573    11.000000  \n",
       "75%       0.735482  7.643888e+13     0.112998    15.000000  \n",
       "max       0.999250  3.558069e+15     0.192752    20.000000  "
      ]
     },
     "execution_count": 124,
     "metadata": {},
     "output_type": "execute_result"
    }
   ],
   "source": [
    "train.describe()"
   ]
  },
  {
   "cell_type": "code",
   "execution_count": 125,
   "metadata": {},
   "outputs": [
    {
     "data": {
      "text/html": [
       "<div>\n",
       "<style scoped>\n",
       "    .dataframe tbody tr th:only-of-type {\n",
       "        vertical-align: middle;\n",
       "    }\n",
       "\n",
       "    .dataframe tbody tr th {\n",
       "        vertical-align: top;\n",
       "    }\n",
       "\n",
       "    .dataframe thead th {\n",
       "        text-align: right;\n",
       "    }\n",
       "</style>\n",
       "<table border=\"1\" class=\"dataframe\">\n",
       "  <thead>\n",
       "    <tr style=\"text-align: right;\">\n",
       "      <th></th>\n",
       "      <th>id</th>\n",
       "      <th>nodes</th>\n",
       "      <th>edges</th>\n",
       "      <th>type</th>\n",
       "      <th>result</th>\n",
       "      <th>avgcoeff</th>\n",
       "      <th>no_of_tri</th>\n",
       "      <th>closed_tri</th>\n",
       "      <th>diameter</th>\n",
       "    </tr>\n",
       "  </thead>\n",
       "  <tbody>\n",
       "    <tr>\n",
       "      <th>0</th>\n",
       "      <td>1</td>\n",
       "      <td>7568</td>\n",
       "      <td>23267099</td>\n",
       "      <td>1</td>\n",
       "      <td>1</td>\n",
       "      <td>0.546112</td>\n",
       "      <td>2044325550</td>\n",
       "      <td>0.081982</td>\n",
       "      <td>15</td>\n",
       "    </tr>\n",
       "    <tr>\n",
       "      <th>1</th>\n",
       "      <td>2</td>\n",
       "      <td>4945192</td>\n",
       "      <td>3423620342807</td>\n",
       "      <td>1</td>\n",
       "      <td>3</td>\n",
       "      <td>0.097773</td>\n",
       "      <td>102602410889840</td>\n",
       "      <td>0.017911</td>\n",
       "      <td>19</td>\n",
       "    </tr>\n",
       "    <tr>\n",
       "      <th>2</th>\n",
       "      <td>3</td>\n",
       "      <td>37893</td>\n",
       "      <td>437435660</td>\n",
       "      <td>0</td>\n",
       "      <td>1</td>\n",
       "      <td>0.288365</td>\n",
       "      <td>19398139006</td>\n",
       "      <td>0.049422</td>\n",
       "      <td>11</td>\n",
       "    </tr>\n",
       "    <tr>\n",
       "      <th>3</th>\n",
       "      <td>4</td>\n",
       "      <td>30270</td>\n",
       "      <td>405375714</td>\n",
       "      <td>1</td>\n",
       "      <td>1</td>\n",
       "      <td>0.857595</td>\n",
       "      <td>32517044031</td>\n",
       "      <td>0.124200</td>\n",
       "      <td>13</td>\n",
       "    </tr>\n",
       "    <tr>\n",
       "      <th>4</th>\n",
       "      <td>5</td>\n",
       "      <td>9925</td>\n",
       "      <td>24129681</td>\n",
       "      <td>1</td>\n",
       "      <td>1</td>\n",
       "      <td>0.132049</td>\n",
       "      <td>1960980594</td>\n",
       "      <td>0.021034</td>\n",
       "      <td>4</td>\n",
       "    </tr>\n",
       "  </tbody>\n",
       "</table>\n",
       "</div>"
      ],
      "text/plain": [
       "   id    nodes          edges  type  result  avgcoeff        no_of_tri  \\\n",
       "0   1     7568       23267099     1       1  0.546112       2044325550   \n",
       "1   2  4945192  3423620342807     1       3  0.097773  102602410889840   \n",
       "2   3    37893      437435660     0       1  0.288365      19398139006   \n",
       "3   4    30270      405375714     1       1  0.857595      32517044031   \n",
       "4   5     9925       24129681     1       1  0.132049       1960980594   \n",
       "\n",
       "   closed_tri  diameter  \n",
       "0    0.081982        15  \n",
       "1    0.017911        19  \n",
       "2    0.049422        11  \n",
       "3    0.124200        13  \n",
       "4    0.021034         4  "
      ]
     },
     "execution_count": 125,
     "metadata": {},
     "output_type": "execute_result"
    }
   ],
   "source": [
    "train.head()"
   ]
  },
  {
   "cell_type": "code",
   "execution_count": 126,
   "metadata": {},
   "outputs": [
    {
     "data": {
      "text/plain": [
       "1000"
      ]
     },
     "execution_count": 126,
     "metadata": {},
     "output_type": "execute_result"
    }
   ],
   "source": [
    "train['id'].nunique()"
   ]
  },
  {
   "cell_type": "code",
   "execution_count": 127,
   "metadata": {},
   "outputs": [
    {
     "data": {
      "text/plain": [
       "Index(['id', 'nodes', 'edges', 'type', 'result', 'avgcoeff', 'no_of_tri',\n",
       "       'closed_tri', 'diameter'],\n",
       "      dtype='object')"
      ]
     },
     "execution_count": 127,
     "metadata": {},
     "output_type": "execute_result"
    }
   ],
   "source": [
    "train.columns"
   ]
  },
  {
   "cell_type": "code",
   "execution_count": 128,
   "metadata": {},
   "outputs": [
    {
     "data": {
      "text/plain": [
       "4"
      ]
     },
     "execution_count": 128,
     "metadata": {},
     "output_type": "execute_result"
    }
   ],
   "source": [
    "train['result'].nunique()"
   ]
  },
  {
   "cell_type": "code",
   "execution_count": 129,
   "metadata": {},
   "outputs": [
    {
     "data": {
      "text/plain": [
       "(1000, 9)"
      ]
     },
     "execution_count": 129,
     "metadata": {},
     "output_type": "execute_result"
    }
   ],
   "source": [
    "train.shape"
   ]
  },
  {
   "cell_type": "code",
   "execution_count": 130,
   "metadata": {},
   "outputs": [
    {
     "name": "stdout",
     "output_type": "stream",
     "text": [
      "<class 'pandas.core.frame.DataFrame'>\n",
      "RangeIndex: 1000 entries, 0 to 999\n",
      "Data columns (total 9 columns):\n",
      "id            1000 non-null int64\n",
      "nodes         1000 non-null int64\n",
      "edges         1000 non-null int64\n",
      "type          1000 non-null int64\n",
      "result        1000 non-null int64\n",
      "avgcoeff      1000 non-null float64\n",
      "no_of_tri     1000 non-null int64\n",
      "closed_tri    1000 non-null float64\n",
      "diameter      1000 non-null int64\n",
      "dtypes: float64(2), int64(7)\n",
      "memory usage: 70.4 KB\n"
     ]
    }
   ],
   "source": [
    "train.info()"
   ]
  },
  {
   "cell_type": "code",
   "execution_count": 131,
   "metadata": {},
   "outputs": [
    {
     "data": {
      "text/plain": [
       "<matplotlib.axes._subplots.AxesSubplot at 0x1e250dbdda0>"
      ]
     },
     "execution_count": 131,
     "metadata": {},
     "output_type": "execute_result"
    },
    {
     "data": {
      "image/png": "[encoded data removed]",
      "text/plain": [
       "<Figure size 1728x1584 with 2 Axes>"
      ]
     },
     "metadata": {},
     "output_type": "display_data"
    }
   ],
   "source": [
    "corr = train.corr()\n",
    "#fig, ax = plt.subplots(figsize=(10,10))\n",
    "plt.figure(figsize = (24,22))\n",
    "sns.heatmap(corr, xticklabels=corr.columns.values,yticklabels=corr.columns.values,cmap=\"jet\",vmin=0,vmax=1,linecolor=\"yellow\",fmt=\"d\",linewidths=.5)"
   ]
  },
  {
   "cell_type": "code",
   "execution_count": 132,
   "metadata": {},
   "outputs": [],
   "source": [
    "corr\n",
    "cmat = pd.DataFrame(corr)\n",
    "cmat.to_csv('correlation_matrix.csv', index=False)"
   ]
  },
  {
   "cell_type": "code",
   "execution_count": 133,
   "metadata": {},
   "outputs": [
    {
     "data": {
      "text/plain": [
       "Index([], dtype='object')"
      ]
     },
     "execution_count": 133,
     "metadata": {},
     "output_type": "execute_result"
    }
   ],
   "source": [
    "train.columns[train.isnull().any()]"
   ]
  },
  {
   "cell_type": "code",
   "execution_count": 134,
   "metadata": {},
   "outputs": [],
   "source": [
    "#test.columns[test.isnull().any()].nunique()"
   ]
  },
  {
   "cell_type": "code",
   "execution_count": 135,
   "metadata": {},
   "outputs": [],
   "source": [
    "#misstest=test.isnull().sum()/len(test)\n",
    "#misstest=misstest[misstest>0]\n",
    "#misstest.sort_values(inplace =True)\n",
    "#misstest"
   ]
  },
  {
   "cell_type": "code",
   "execution_count": 136,
   "metadata": {},
   "outputs": [
    {
     "data": {
      "text/plain": [
       "0"
      ]
     },
     "execution_count": 136,
     "metadata": {},
     "output_type": "execute_result"
    }
   ],
   "source": [
    "train.columns[train.isnull().any()].nunique()"
   ]
  },
  {
   "cell_type": "code",
   "execution_count": 137,
   "metadata": {},
   "outputs": [
    {
     "data": {
      "text/plain": [
       "Series([], dtype: float64)"
      ]
     },
     "execution_count": 137,
     "metadata": {},
     "output_type": "execute_result"
    }
   ],
   "source": [
    "miss=train.isnull().sum()/len(train)\n",
    "miss=miss[miss>0]\n",
    "miss.sort_values(inplace=True)\n",
    "miss"
   ]
  },
  {
   "cell_type": "code",
   "execution_count": 138,
   "metadata": {},
   "outputs": [
    {
     "data": {
      "text/plain": [
       "-0.06360056428503869"
      ]
     },
     "execution_count": 138,
     "metadata": {},
     "output_type": "execute_result"
    }
   ],
   "source": [
    "train['result'].skew()"
   ]
  },
  {
   "cell_type": "code",
   "execution_count": 139,
   "metadata": {},
   "outputs": [
    {
     "name": "stderr",
     "output_type": "stream",
     "text": [
      "C:\\Users\\vipul\\Anaconda3\\lib\\site-packages\\matplotlib\\axes\\_axes.py:6462: UserWarning: The 'normed' kwarg is deprecated, and has been replaced by the 'density' kwarg.\n",
      "  warnings.warn(\"The 'normed' kwarg is deprecated, and has been \"\n"
     ]
    },
    {
     "data": {
      "text/plain": [
       "<matplotlib.axes._subplots.AxesSubplot at 0x1e250e42a20>"
      ]
     },
     "execution_count": 139,
     "metadata": {},
     "output_type": "execute_result"
    },
    {
     "data": {
      "image/png": "[encoded data removed]",
      "text/plain": [
       "<Figure size 432x288 with 1 Axes>"
      ]
     },
     "metadata": {},
     "output_type": "display_data"
    }
   ],
   "source": [
    "sns.distplot(train['result'])"
   ]
  },
  {
   "cell_type": "code",
   "execution_count": 140,
   "metadata": {},
   "outputs": [
    {
     "name": "stderr",
     "output_type": "stream",
     "text": [
      "C:\\Users\\vipul\\Anaconda3\\lib\\site-packages\\ipykernel_launcher.py:1: RuntimeWarning: divide by zero encountered in log\n",
      "  \"\"\"Entry point for launching an IPython kernel.\n"
     ]
    },
    {
     "data": {
      "text/plain": [
       "nan"
      ]
     },
     "execution_count": 140,
     "metadata": {},
     "output_type": "execute_result"
    }
   ],
   "source": [
    "target=np.log(train['result'])\n",
    "target.skew()"
   ]
  },
  {
   "cell_type": "code",
   "execution_count": 141,
   "metadata": {},
   "outputs": [],
   "source": [
    "#sns.distplot(target)"
   ]
  },
  {
   "cell_type": "code",
   "execution_count": 142,
   "metadata": {},
   "outputs": [
    {
     "name": "stderr",
     "output_type": "stream",
     "text": [
      "C:\\Users\\vipul\\Anaconda3\\lib\\site-packages\\matplotlib\\axes\\_axes.py:6462: UserWarning: The 'normed' kwarg is deprecated, and has been replaced by the 'density' kwarg.\n",
      "  warnings.warn(\"The 'normed' kwarg is deprecated, and has been \"\n",
      "C:\\Users\\vipul\\Anaconda3\\lib\\site-packages\\matplotlib\\axes\\_axes.py:6462: UserWarning: The 'normed' kwarg is deprecated, and has been replaced by the 'density' kwarg.\n",
      "  warnings.warn(\"The 'normed' kwarg is deprecated, and has been \"\n",
      "C:\\Users\\vipul\\Anaconda3\\lib\\site-packages\\matplotlib\\axes\\_axes.py:6462: UserWarning: The 'normed' kwarg is deprecated, and has been replaced by the 'density' kwarg.\n",
      "  warnings.warn(\"The 'normed' kwarg is deprecated, and has been \"\n",
      "C:\\Users\\vipul\\Anaconda3\\lib\\site-packages\\matplotlib\\axes\\_axes.py:6462: UserWarning: The 'normed' kwarg is deprecated, and has been replaced by the 'density' kwarg.\n",
      "  warnings.warn(\"The 'normed' kwarg is deprecated, and has been \"\n",
      "C:\\Users\\vipul\\Anaconda3\\lib\\site-packages\\matplotlib\\axes\\_axes.py:6462: UserWarning: The 'normed' kwarg is deprecated, and has been replaced by the 'density' kwarg.\n",
      "  warnings.warn(\"The 'normed' kwarg is deprecated, and has been \"\n",
      "C:\\Users\\vipul\\Anaconda3\\lib\\site-packages\\matplotlib\\axes\\_axes.py:6462: UserWarning: The 'normed' kwarg is deprecated, and has been replaced by the 'density' kwarg.\n",
      "  warnings.warn(\"The 'normed' kwarg is deprecated, and has been \"\n",
      "C:\\Users\\vipul\\Anaconda3\\lib\\site-packages\\matplotlib\\axes\\_axes.py:6462: UserWarning: The 'normed' kwarg is deprecated, and has been replaced by the 'density' kwarg.\n",
      "  warnings.warn(\"The 'normed' kwarg is deprecated, and has been \"\n",
      "C:\\Users\\vipul\\Anaconda3\\lib\\site-packages\\matplotlib\\axes\\_axes.py:6462: UserWarning: The 'normed' kwarg is deprecated, and has been replaced by the 'density' kwarg.\n",
      "  warnings.warn(\"The 'normed' kwarg is deprecated, and has been \"\n"
     ]
    },
    {
     "data": {
      "text/plain": [
       "<seaborn.axisgrid.FacetGrid at 0x1e250eb8080>"
      ]
     },
     "execution_count": 142,
     "metadata": {},
     "output_type": "execute_result"
    },
    {
     "data": {
      "image/png": "[encoded data removed]",
      "text/plain": [
       "<Figure size 864x432 with 8 Axes>"
      ]
     },
     "metadata": {},
     "output_type": "display_data"
    }
   ],
   "source": [
    "#create numeric plots\n",
    "num = [f for f in train.columns if train.dtypes[f] != 'object']\n",
    "num.remove('id')\n",
    "nd = pd.melt(train, value_vars = num)\n",
    "n1 = sns.FacetGrid (nd, col='variable', col_wrap=4, sharex=False, sharey = False)\n",
    "n1 = n1.map(sns.distplot, 'value')\n",
    "n1"
   ]
  },
  {
   "cell_type": "code",
   "execution_count": 143,
   "metadata": {},
   "outputs": [],
   "source": [
    "X=train[['id', 'nodes', 'edges', 'type', 'avgcoeff', 'no_of_tri',\n",
    "       'closed_tri', 'diameter']]\n",
    "y=train['result']"
   ]
  },
  {
   "cell_type": "code",
   "execution_count": 144,
   "metadata": {},
   "outputs": [],
   "source": [
    "xtrain,xtest,ytrain,ytest=train_test_split(X,y,test_size=0.10)"
   ]
  },
  {
   "cell_type": "markdown",
   "metadata": {
    "collapsed": true
   },
   "source": [
    "    using Dense Neural Network"
   ]
  },
  {
   "cell_type": "code",
   "execution_count": 145,
   "metadata": {},
   "outputs": [],
   "source": [
    "from sklearn.ensemble import RandomForestClassifier\n",
    "from keras.utils import to_categorical\n",
    "y_b = to_categorical(ytrain)"
   ]
  },
  {
   "cell_type": "code",
   "execution_count": 146,
   "metadata": {},
   "outputs": [
    {
     "name": "stdout",
     "output_type": "stream",
     "text": [
      "Epoch 1/30\n",
      "900/900 [==============================] - 1s 870us/step - loss: 1.3874 - acc: 0.2700\n",
      "Epoch 2/30\n",
      "900/900 [==============================] - 0s 389us/step - loss: 1.3858 - acc: 0.2700\n",
      "Epoch 3/30\n",
      "900/900 [==============================] - 0s 374us/step - loss: 1.3855 - acc: 0.2700\n",
      "Epoch 4/30\n",
      "900/900 [==============================] - 0s 406us/step - loss: 1.3847 - acc: 0.2700\n",
      "Epoch 5/30\n",
      "900/900 [==============================] - 0s 389us/step - loss: 1.3846 - acc: 0.2700\n",
      "Epoch 6/30\n",
      "900/900 [==============================] - 0s 412us/step - loss: 1.3847 - acc: 0.2700\n",
      "Epoch 7/30\n",
      "900/900 [==============================] - 0s 418us/step - loss: 1.3852 - acc: 0.2700\n",
      "Epoch 8/30\n",
      "900/900 [==============================] - 0s 407us/step - loss: 1.3845 - acc: 0.2700\n",
      "Epoch 9/30\n",
      "900/900 [==============================] - 0s 390us/step - loss: 1.3852 - acc: 0.2700\n",
      "Epoch 10/30\n",
      "900/900 [==============================] - 0s 405us/step - loss: 1.3847 - acc: 0.2700\n",
      "Epoch 11/30\n",
      "900/900 [==============================] - 0s 445us/step - loss: 1.3854 - acc: 0.2700\n",
      "Epoch 12/30\n",
      "900/900 [==============================] - 0s 391us/step - loss: 1.3858 - acc: 0.2700\n",
      "Epoch 13/30\n",
      "900/900 [==============================] - 0s 387us/step - loss: 1.3845 - acc: 0.2700\n",
      "Epoch 14/30\n",
      "900/900 [==============================] - 0s 389us/step - loss: 1.3849 - acc: 0.2700\n",
      "Epoch 15/30\n",
      "900/900 [==============================] - 0s 426us/step - loss: 1.3847 - acc: 0.2700\n",
      "Epoch 16/30\n",
      "900/900 [==============================] - 0s 453us/step - loss: 1.3856 - acc: 0.2700\n",
      "Epoch 17/30\n",
      "900/900 [==============================] - 0s 414us/step - loss: 1.3850 - acc: 0.2700\n",
      "Epoch 18/30\n",
      "900/900 [==============================] - 0s 406us/step - loss: 1.3848 - acc: 0.2700\n",
      "Epoch 19/30\n",
      "900/900 [==============================] - 0s 394us/step - loss: 1.3848 - acc: 0.2700\n",
      "Epoch 20/30\n",
      "900/900 [==============================] - 0s 434us/step - loss: 1.3850 - acc: 0.2700 0s - loss: 1.3839 - acc: 0.278\n",
      "Epoch 21/30\n",
      "900/900 [==============================] - 0s 416us/step - loss: 1.3848 - acc: 0.2700\n",
      "Epoch 22/30\n",
      "900/900 [==============================] - 0s 409us/step - loss: 1.3847 - acc: 0.2700\n",
      "Epoch 23/30\n",
      "900/900 [==============================] - 0s 420us/step - loss: 1.3848 - acc: 0.2700\n",
      "Epoch 24/30\n",
      "900/900 [==============================] - 0s 434us/step - loss: 1.3847 - acc: 0.2700\n",
      "Epoch 25/30\n",
      "900/900 [==============================] - 0s 449us/step - loss: 1.3848 - acc: 0.2700\n",
      "Epoch 26/30\n",
      "900/900 [==============================] - 0s 409us/step - loss: 1.3846 - acc: 0.2700\n",
      "Epoch 27/30\n",
      "900/900 [==============================] - 0s 408us/step - loss: 1.3847 - acc: 0.2700\n",
      "Epoch 28/30\n",
      "900/900 [==============================] - 0s 417us/step - loss: 1.3848 - acc: 0.2700\n",
      "Epoch 29/30\n",
      "900/900 [==============================] - 0s 398us/step - loss: 1.3845 - acc: 0.2700\n",
      "Epoch 30/30\n",
      "900/900 [==============================] - 0s 405us/step - loss: 1.3856 - acc: 0.2700\n"
     ]
    },
    {
     "data": {
      "text/plain": [
       "Text(0.5,0,'epoch')"
      ]
     },
     "execution_count": 146,
     "metadata": {},
     "output_type": "execute_result"
    },
    {
     "data": {
      "image/png": "[encoded data removed]",
      "text/plain": [
       "<Figure size 432x288 with 1 Axes>"
      ]
     },
     "metadata": {},
     "output_type": "display_data"
    }
   ],
   "source": [
    "model = Sequential()\n",
    "model.add(Dense(5000, input_shape=(8,), activation='softmax'))\n",
    "model.add(Dense(20, activation='softmax'))\n",
    "model.add(Dense(4, activation='softmax'))\n",
    "model.compile(Adam(lr = 0.01), 'categorical_crossentropy', metrics=['accuracy'])\n",
    "h=model.fit(x=xtrain,y=y_b,verbose=1,batch_size=100,epochs=30,shuffle='true')\n",
    "\n",
    "\n",
    "plt.plot(h.history['loss'])\n",
    "plt.legend(['loss'])\n",
    "plt.title('loss')\n",
    "plt.xlabel('epoch')\n"
   ]
  },
  {
   "cell_type": "code",
   "execution_count": 147,
   "metadata": {},
   "outputs": [
    {
     "data": {
      "text/plain": [
       "Text(0.5,0,'epoch')"
      ]
     },
     "execution_count": 147,
     "metadata": {},
     "output_type": "execute_result"
    },
    {
     "data": {
      "image/png": "[encoded data removed]",
      "text/plain": [
       "<Figure size 432x288 with 1 Axes>"
      ]
     },
     "metadata": {},
     "output_type": "display_data"
    }
   ],
   "source": [
    "plt.plot(h.history['acc'])\n",
    "plt.legend(['accuracy'])\n",
    "plt.ylabel('accuracy')\n",
    "plt.xlabel('epoch')\n"
   ]
  },
  {
   "cell_type": "code",
   "execution_count": 148,
   "metadata": {},
   "outputs": [],
   "source": [
    "predict = model.predict_classes(xtest)"
   ]
  },
  {
   "cell_type": "code",
   "execution_count": 149,
   "metadata": {},
   "outputs": [
    {
     "data": {
      "text/plain": [
       "array([3, 3, 3, 3, 3, 3, 3, 3, 3, 3, 3, 3, 3, 3, 3, 3, 3, 3, 3, 3, 3, 3,\n",
       "       3, 3, 3, 3, 3, 3, 3, 3, 3, 3, 3, 3, 3, 3, 3, 3, 3, 3, 3, 3, 3, 3,\n",
       "       3, 3, 3, 3, 3, 3, 3, 3, 3, 3, 3, 3, 3, 3, 3, 3, 3, 3, 3, 3, 3, 3,\n",
       "       3, 3, 3, 3, 3, 3, 3, 3, 3, 3, 3, 3, 3, 3, 3, 3, 3, 3, 3, 3, 3, 3,\n",
       "       3, 3, 3, 3, 3, 3, 3, 3, 3, 3, 3, 3], dtype=int64)"
      ]
     },
     "execution_count": 149,
     "metadata": {},
     "output_type": "execute_result"
    }
   ],
   "source": [
    "predict"
   ]
  },
  {
   "cell_type": "code",
   "execution_count": null,
   "metadata": {},
   "outputs": [],
   "source": []
  },
  {
   "cell_type": "code",
   "execution_count": null,
   "metadata": {},
   "outputs": [],
   "source": []
  }
 ],
 "metadata": {
  "kernelspec": {
   "display_name": "Python 3",
   "language": "python",
   "name": "python3"
  },
  "language_info": {
   "codemirror_mode": {
    "name": "ipython",
    "version": 3
   },
   "file_extension": ".py",
   "mimetype": "text/x-python",
   "name": "python",
   "nbconvert_exporter": "python",
   "pygments_lexer": "ipython3",
   "version": "3.6.5"
  }
 },
 "nbformat": 4,
 "nbformat_minor": 2
}
